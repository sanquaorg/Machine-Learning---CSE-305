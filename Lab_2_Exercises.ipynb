{
  "cells": [
    {
      "cell_type": "markdown",
      "metadata": {
        "id": "view-in-github",
        "colab_type": "text"
      },
      "source": [
        "<a href=\"https://colab.research.google.com/github/sanquaorg/Machine-Learning---CSE-305/blob/main/Lab_2_Exercises.ipynb\" target=\"_parent\"><img src=\"https://colab.research.google.com/assets/colab-badge.svg\" alt=\"Open In Colab\"/></a>"
      ]
    },
    {
      "cell_type": "markdown",
      "metadata": {
        "id": "chcMMiJKcqyJ"
      },
      "source": [
        "# **19CSE305: MACHINE LEARNING LAB 2**"
      ]
    },
    {
      "cell_type": "markdown",
      "metadata": {
        "id": "0Q-TStVVdFaA"
      },
      "source": [
        "ROLL NUMBER: "
      ]
    },
    {
      "cell_type": "markdown",
      "source": [
        "Q1)"
      ],
      "metadata": {
        "id": "TJ3cBqQ4jnrb"
      }
    },
    {
      "cell_type": "code",
      "source": [
        "import math\n",
        "p = float(input(\"Enter the principal amount\"))\n",
        "t = float(input(\"Enter the time in years\"))\n",
        "r = float(input(\"Enter the rate of interest\"))\n",
        "n = int(input(\"Enter the number of times interest applied per time period\"))\n",
        "a = math.pow(p*(1+(r/n)),(n*t))\n",
        "ci = a-p\n",
        "print(ci)"
      ],
      "metadata": {
        "colab": {
          "base_uri": "https://localhost:8080/"
        },
        "id": "iKCp4GnPjWIt",
        "outputId": "eaec1681-a00c-4381-bef0-5ed67147936a"
      },
      "execution_count": null,
      "outputs": [
        {
          "output_type": "stream",
          "name": "stdout",
          "text": [
            "Enter the principal amount1\n",
            "Enter the time in years1\n",
            "Enter the rate of interest1\n",
            "Enter the number of times interest applied per time period1\n",
            "1.0\n"
          ]
        }
      ]
    },
    {
      "cell_type": "markdown",
      "source": [
        "Q2)"
      ],
      "metadata": {
        "id": "5yaRlEmMj0cr"
      }
    },
    {
      "cell_type": "code",
      "source": [
        "list1 = []\n",
        "mem = list1.append(input(\"Enter a string\"))\n",
        "# for i in list1:\n",
        "\n",
        "  # occurence.append(count)"
      ],
      "metadata": {
        "colab": {
          "base_uri": "https://localhost:8080/"
        },
        "id": "VwkZkaZ7j2G_",
        "outputId": "c8ddb734-44f5-45e1-a213-acc5092dabde"
      },
      "execution_count": null,
      "outputs": [
        {
          "name": "stdout",
          "output_type": "stream",
          "text": [
            "Enter a stringsanjay\n"
          ]
        }
      ]
    },
    {
      "cell_type": "markdown",
      "source": [
        "Q3)"
      ],
      "metadata": {
        "id": "BfdjfvCnuBpw"
      }
    },
    {
      "cell_type": "code",
      "source": [
        "num = (int(input(\"Enter a number\")))\n",
        "\n",
        "bi = bin(num)[2:]\n",
        "num_str = str(bi)\n",
        "b=[]\n",
        "for i in len(num_str) :\n",
        "  b.append(num_str[i])\n",
        "print(b)"
      ],
      "metadata": {
        "colab": {
          "base_uri": "https://localhost:8080/",
          "height": 253
        },
        "id": "1j0dqkaFuEFk",
        "outputId": "04c43256-8699-46d3-c654-77a88316c203"
      },
      "execution_count": null,
      "outputs": [
        {
          "name": "stdout",
          "output_type": "stream",
          "text": [
            "Enter a number12\n"
          ]
        },
        {
          "output_type": "error",
          "ename": "TypeError",
          "evalue": "ignored",
          "traceback": [
            "\u001b[0;31m---------------------------------------------------------------------------\u001b[0m",
            "\u001b[0;31mTypeError\u001b[0m                                 Traceback (most recent call last)",
            "\u001b[0;32m<ipython-input-39-8f8122a8c552>\u001b[0m in \u001b[0;36m<module>\u001b[0;34m\u001b[0m\n\u001b[1;32m      4\u001b[0m \u001b[0mnum_str\u001b[0m \u001b[0;34m=\u001b[0m \u001b[0mstr\u001b[0m\u001b[0;34m(\u001b[0m\u001b[0mbi\u001b[0m\u001b[0;34m)\u001b[0m\u001b[0;34m\u001b[0m\u001b[0;34m\u001b[0m\u001b[0m\n\u001b[1;32m      5\u001b[0m \u001b[0mb\u001b[0m\u001b[0;34m=\u001b[0m\u001b[0;34m[\u001b[0m\u001b[0;34m]\u001b[0m\u001b[0;34m\u001b[0m\u001b[0;34m\u001b[0m\u001b[0m\n\u001b[0;32m----> 6\u001b[0;31m \u001b[0;32mfor\u001b[0m \u001b[0mi\u001b[0m \u001b[0;32min\u001b[0m \u001b[0mlen\u001b[0m\u001b[0;34m(\u001b[0m\u001b[0mnum_str\u001b[0m\u001b[0;34m)\u001b[0m \u001b[0;34m:\u001b[0m\u001b[0;34m\u001b[0m\u001b[0;34m\u001b[0m\u001b[0m\n\u001b[0m\u001b[1;32m      7\u001b[0m   \u001b[0mb\u001b[0m\u001b[0;34m.\u001b[0m\u001b[0mappend\u001b[0m\u001b[0;34m(\u001b[0m\u001b[0mnum_str\u001b[0m\u001b[0;34m[\u001b[0m\u001b[0mi\u001b[0m\u001b[0;34m]\u001b[0m\u001b[0;34m)\u001b[0m\u001b[0;34m\u001b[0m\u001b[0;34m\u001b[0m\u001b[0m\n\u001b[1;32m      8\u001b[0m \u001b[0mprint\u001b[0m\u001b[0;34m(\u001b[0m\u001b[0mb\u001b[0m\u001b[0;34m)\u001b[0m\u001b[0;34m\u001b[0m\u001b[0;34m\u001b[0m\u001b[0m\n",
            "\u001b[0;31mTypeError\u001b[0m: 'int' object is not iterable"
          ]
        }
      ]
    },
    {
      "cell_type": "markdown",
      "metadata": {
        "id": "-7EeRdSAGbw3"
      },
      "source": [
        "1## Python Basic Exercises\n",
        "\n",
        "1. Get the values P,t,R from user and calculate compound interest. Formula to calculate compound interest annually is given by: \n",
        "        A = P(1+R/100)*t\n",
        "        CI = A – P\n",
        "        Input : Principle, Time, Rate\n",
        "        Output : Compound Interest\n",
        "2. Given a list of strings (Entered by the user), write program to get a percentage share of each word in the strings list.\n",
        "        percentage = (Occurrence of a word / Total words) * 100\n",
        "3. Check if  the binary representation of a number is Palindrome or not. Given an integer ‘n’ (entered by the user), write a Python function that returns true if binary representation of 'x' is palindrome and false if not.\n",
        "4. Write a program to check if all digits of a number divide it. Given a number n (entered by the user), find whether all digits of n divide it or not.\n",
        "5. Given a list of numbers (entered by the user), write a program to find the second largest number in that list.\n",
        "        Input: [1, 2, 3, 4 ,5]\n",
        "        Output: 4"
      ]
    },
    {
      "cell_type": "markdown",
      "source": [
        "## Numpy Basic Exercises\n",
        "\n",
        "1. Create a 3D array of shape 4*5*2 that contains random decimal numbers between 1 and 10.\n",
        "2. Create a randomly created 1D array and Convert it to a 2D array with 2 rows.\n",
        "3. Given a NumPy array of temperature values, convert the values of Centigrade degrees into Fahrenheit degrees. \n",
        "4. Write a NumPy program to count the number of dimensions, number of elements and number of bytes for each element in a given array.\n",
        "5. Write a NumPy program to extract third and second elements of the first and second rows from a given (3x4) array"
      ],
      "metadata": {
        "id": "Q3Ba9vORIPW4"
      }
    },
    {
      "cell_type": "code",
      "source": [],
      "metadata": {
        "id": "5uBgjI6blm3M"
      },
      "execution_count": null,
      "outputs": []
    },
    {
      "cell_type": "markdown",
      "source": [
        "Q1)"
      ],
      "metadata": {
        "id": "ePEKl7nalnyJ"
      }
    },
    {
      "cell_type": "code",
      "source": [
        "import numpy as np\n",
        "arr = np.random.randint(1,10, size=(4,5,2))\n",
        "arr"
      ],
      "metadata": {
        "colab": {
          "base_uri": "https://localhost:8080/"
        },
        "id": "RBdXMrXRlowO",
        "outputId": "054f2378-7a6b-416a-e466-b2810ec20bc6"
      },
      "execution_count": null,
      "outputs": [
        {
          "output_type": "execute_result",
          "data": {
            "text/plain": [
              "array([[[7, 6],\n",
              "        [6, 1],\n",
              "        [1, 2],\n",
              "        [7, 7],\n",
              "        [7, 2]],\n",
              "\n",
              "       [[4, 1],\n",
              "        [9, 9],\n",
              "        [1, 1],\n",
              "        [3, 3],\n",
              "        [3, 6]],\n",
              "\n",
              "       [[6, 3],\n",
              "        [3, 2],\n",
              "        [3, 4],\n",
              "        [5, 5],\n",
              "        [5, 9]],\n",
              "\n",
              "       [[3, 6],\n",
              "        [1, 6],\n",
              "        [9, 6],\n",
              "        [9, 1],\n",
              "        [7, 8]]])"
            ]
          },
          "metadata": {},
          "execution_count": 5
        }
      ]
    },
    {
      "cell_type": "markdown",
      "source": [
        "Q2)"
      ],
      "metadata": {
        "id": "BgTENltkoy_j"
      }
    },
    {
      "cell_type": "code",
      "source": [
        "arr = np.random.rand(4)\n",
        "arr1 = arr.reshape(2,2)\n",
        "print(arr)\n",
        "arr1"
      ],
      "metadata": {
        "colab": {
          "base_uri": "https://localhost:8080/"
        },
        "id": "wwN0q3q3n7hl",
        "outputId": "9d4b58f0-792a-4849-adf7-5e3331ec7837"
      },
      "execution_count": null,
      "outputs": [
        {
          "output_type": "stream",
          "name": "stdout",
          "text": [
            "[0.50349829 0.11301578 0.98135582 0.33019247]\n"
          ]
        },
        {
          "output_type": "execute_result",
          "data": {
            "text/plain": [
              "array([[0.50349829, 0.11301578],\n",
              "       [0.98135582, 0.33019247]])"
            ]
          },
          "metadata": {},
          "execution_count": 15
        }
      ]
    },
    {
      "cell_type": "markdown",
      "source": [
        "Q3)"
      ],
      "metadata": {
        "id": "0XSce86Np2_6"
      }
    },
    {
      "cell_type": "code",
      "source": [
        "arr = np.array([20,30,15,23,34])\n",
        "arr1=[]\n",
        "for i in arr:\n",
        "  j=(i*1.8)+32\n",
        "  arr1.append(j)\n",
        "print(arr1)\n"
      ],
      "metadata": {
        "colab": {
          "base_uri": "https://localhost:8080/"
        },
        "id": "Gw45uD34p3zn",
        "outputId": "85accc6c-71bc-440c-f6ed-d818dee4e86a"
      },
      "execution_count": null,
      "outputs": [
        {
          "output_type": "stream",
          "name": "stdout",
          "text": [
            "[68.0, 86.0, 59.0, 73.4, 93.2]\n"
          ]
        }
      ]
    },
    {
      "cell_type": "markdown",
      "source": [
        "Q4)"
      ],
      "metadata": {
        "id": "26HtgKAIrGzG"
      }
    },
    {
      "cell_type": "code",
      "source": [
        "arr = np.arange(5)\n",
        "arr\n",
        "print(arr.ndim)\n",
        "print(len(arr))\n",
        "print(arr.nbytes/len(arr))\n"
      ],
      "metadata": {
        "colab": {
          "base_uri": "https://localhost:8080/"
        },
        "id": "Kr_vdpDorA9s",
        "outputId": "3a63fbc4-6df9-41bd-afa5-0100acc9182f"
      },
      "execution_count": null,
      "outputs": [
        {
          "output_type": "stream",
          "name": "stdout",
          "text": [
            "1\n",
            "5\n",
            "8.0\n"
          ]
        }
      ]
    },
    {
      "cell_type": "markdown",
      "source": [
        "Q5)"
      ],
      "metadata": {
        "id": "xQVt1z07s7Sg"
      }
    },
    {
      "cell_type": "code",
      "source": [
        "arr = np.array([[1,2,3,4],[5,6,7,8],[9,10,11,12]])\n",
        "arr"
      ],
      "metadata": {
        "colab": {
          "base_uri": "https://localhost:8080/"
        },
        "id": "dI9PdG2GrSmq",
        "outputId": "c87566d0-4e60-4fa9-a0e5-77ff75541cc7"
      },
      "execution_count": null,
      "outputs": [
        {
          "output_type": "execute_result",
          "data": {
            "text/plain": [
              "array([[ 1,  2,  3,  4],\n",
              "       [ 5,  6,  7,  8],\n",
              "       [ 9, 10, 11, 12]])"
            ]
          },
          "metadata": {},
          "execution_count": 26
        }
      ]
    },
    {
      "cell_type": "code",
      "source": [
        "print(arr[0][1])\n",
        "print(arr[0][2])\n",
        "print(arr[1][1])\n",
        "print(arr[1][2])"
      ],
      "metadata": {
        "colab": {
          "base_uri": "https://localhost:8080/"
        },
        "id": "o0OTuJQUtI_a",
        "outputId": "b8cd05cf-644a-410b-905a-304731b9a291"
      },
      "execution_count": null,
      "outputs": [
        {
          "output_type": "stream",
          "name": "stdout",
          "text": [
            "2\n",
            "3\n",
            "6\n",
            "7\n"
          ]
        }
      ]
    },
    {
      "cell_type": "code",
      "source": [],
      "metadata": {
        "id": "T6L-3-W1tQb3"
      },
      "execution_count": null,
      "outputs": []
    }
  ],
  "metadata": {
    "colab": {
      "collapsed_sections": [],
      "provenance": [],
      "include_colab_link": true
    },
    "kernelspec": {
      "display_name": "Python 3",
      "name": "python3"
    },
    "language_info": {
      "name": "python"
    }
  },
  "nbformat": 4,
  "nbformat_minor": 0
}